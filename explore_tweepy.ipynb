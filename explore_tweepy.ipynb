{
 "cells": [
  {
   "cell_type": "markdown",
   "metadata": {},
   "source": [
    "## gatekeeper"
   ]
  },
  {
   "cell_type": "markdown",
   "metadata": {},
   "source": [
    "In order for this notebook to work, you need to save the api keys provided by twitter through the [developer application process](https://developer.twitter.com/en) as the appropriate file names, listed below."
   ]
  },
  {
   "cell_type": "code",
   "execution_count": 1,
   "metadata": {},
   "outputs": [],
   "source": [
    "import tweepy"
   ]
  },
  {
   "cell_type": "code",
   "execution_count": 2,
   "metadata": {},
   "outputs": [],
   "source": [
    "with open('api_key', 'r') as file:\n",
    "    consumer_key = file.read()"
   ]
  },
  {
   "cell_type": "code",
   "execution_count": 3,
   "metadata": {},
   "outputs": [],
   "source": [
    "with open('api_key_secret', 'r') as file1:\n",
    "    consumer_secret = file1.read()"
   ]
  },
  {
   "cell_type": "code",
   "execution_count": 4,
   "metadata": {},
   "outputs": [],
   "source": [
    "with open('access_token', 'r') as file2:\n",
    "    access_token = file2.read()"
   ]
  },
  {
   "cell_type": "code",
   "execution_count": 5,
   "metadata": {},
   "outputs": [],
   "source": [
    "with open('access_token_secret', 'r') as file3:\n",
    "    access_token_secret = file3.read()"
   ]
  },
  {
   "cell_type": "markdown",
   "metadata": {},
   "source": [
    "setting access keys "
   ]
  },
  {
   "cell_type": "code",
   "execution_count": 6,
   "metadata": {},
   "outputs": [],
   "source": [
    "auth = tweepy.OAuthHandler(consumer_key, consumer_secret)"
   ]
  },
  {
   "cell_type": "code",
   "execution_count": 7,
   "metadata": {},
   "outputs": [],
   "source": [
    "auth.set_access_token(access_token, access_token_secret)"
   ]
  },
  {
   "cell_type": "markdown",
   "metadata": {},
   "source": [
    "setting variable for API with authentication as `api`"
   ]
  },
  {
   "cell_type": "code",
   "execution_count": 8,
   "metadata": {},
   "outputs": [],
   "source": [
    "api = tweepy.API(auth)"
   ]
  },
  {
   "cell_type": "code",
   "execution_count": 9,
   "metadata": {},
   "outputs": [
    {
     "name": "stdout",
     "output_type": "stream",
     "text": [
      "firebot\n"
     ]
    }
   ],
   "source": [
    "print(api.me().name)\n",
    "# what's my name?"
   ]
  },
  {
   "cell_type": "markdown",
   "metadata": {},
   "source": [
    "## Sending tweet"
   ]
  },
  {
   "cell_type": "markdown",
   "metadata": {},
   "source": [
    "This is a basic way to use the API to update your status (send a tweet). We can concieve of a way to programatically build a tweet from a text file extracted from an RSS feed. "
   ]
  },
  {
   "cell_type": "code",
   "execution_count": 10,
   "metadata": {
    "scrolled": true
   },
   "outputs": [
    {
     "data": {
      "text/plain": [
       "Status(_api=<tweepy.api.API object at 0x7f08c42180a0>, _json={'created_at': 'Thu Feb 25 16:56:56 +0000 2021', 'id': 1364982724746899463, 'id_str': '1364982724746899463', 'text': 'Need a light?', 'truncated': False, 'entities': {'hashtags': [], 'symbols': [], 'user_mentions': [], 'urls': []}, 'source': '', 'in_reply_to_status_id': None, 'in_reply_to_status_id_str': None, 'in_reply_to_user_id': None, 'in_reply_to_user_id_str': None, 'in_reply_to_screen_name': None, 'user': {'id': 1194670380402610176, 'id_str': '1194670380402610176', 'name': 'firebot', 'screen_name': 'CFirebot', 'location': 'Southern California', 'description': '', 'url': None, 'entities': {'description': {'urls': []}}, 'protected': False, 'followers_count': 0, 'friends_count': 0, 'listed_count': 0, 'created_at': 'Wed Nov 13 17:36:39 +0000 2019', 'favourites_count': 0, 'utc_offset': None, 'time_zone': None, 'geo_enabled': False, 'verified': False, 'statuses_count': 1, 'lang': None, 'contributors_enabled': False, 'is_translator': False, 'is_translation_enabled': False, 'profile_background_color': 'F5F8FA', 'profile_background_image_url': None, 'profile_background_image_url_https': None, 'profile_background_tile': False, 'profile_image_url': 'http://pbs.twimg.com/profile_images/1356726295963475968/Eopr6DZK_normal.jpg', 'profile_image_url_https': 'https://pbs.twimg.com/profile_images/1356726295963475968/Eopr6DZK_normal.jpg', 'profile_link_color': '1DA1F2', 'profile_sidebar_border_color': 'C0DEED', 'profile_sidebar_fill_color': 'DDEEF6', 'profile_text_color': '333333', 'profile_use_background_image': True, 'has_extended_profile': True, 'default_profile': True, 'default_profile_image': False, 'following': False, 'follow_request_sent': False, 'notifications': False, 'translator_type': 'none'}, 'geo': None, 'coordinates': None, 'place': None, 'contributors': None, 'is_quote_status': False, 'retweet_count': 0, 'favorite_count': 0, 'favorited': False, 'retweeted': False, 'lang': 'en'}, created_at=datetime.datetime(2021, 2, 25, 16, 56, 56), id=1364982724746899463, id_str='1364982724746899463', text='Need a light?', truncated=False, entities={'hashtags': [], 'symbols': [], 'user_mentions': [], 'urls': []}, source='', source_url=None, in_reply_to_status_id=None, in_reply_to_status_id_str=None, in_reply_to_user_id=None, in_reply_to_user_id_str=None, in_reply_to_screen_name=None, author=User(_api=<tweepy.api.API object at 0x7f08c42180a0>, _json={'id': 1194670380402610176, 'id_str': '1194670380402610176', 'name': 'firebot', 'screen_name': 'CFirebot', 'location': 'Southern California', 'description': '', 'url': None, 'entities': {'description': {'urls': []}}, 'protected': False, 'followers_count': 0, 'friends_count': 0, 'listed_count': 0, 'created_at': 'Wed Nov 13 17:36:39 +0000 2019', 'favourites_count': 0, 'utc_offset': None, 'time_zone': None, 'geo_enabled': False, 'verified': False, 'statuses_count': 1, 'lang': None, 'contributors_enabled': False, 'is_translator': False, 'is_translation_enabled': False, 'profile_background_color': 'F5F8FA', 'profile_background_image_url': None, 'profile_background_image_url_https': None, 'profile_background_tile': False, 'profile_image_url': 'http://pbs.twimg.com/profile_images/1356726295963475968/Eopr6DZK_normal.jpg', 'profile_image_url_https': 'https://pbs.twimg.com/profile_images/1356726295963475968/Eopr6DZK_normal.jpg', 'profile_link_color': '1DA1F2', 'profile_sidebar_border_color': 'C0DEED', 'profile_sidebar_fill_color': 'DDEEF6', 'profile_text_color': '333333', 'profile_use_background_image': True, 'has_extended_profile': True, 'default_profile': True, 'default_profile_image': False, 'following': False, 'follow_request_sent': False, 'notifications': False, 'translator_type': 'none'}, id=1194670380402610176, id_str='1194670380402610176', name='firebot', screen_name='CFirebot', location='Southern California', description='', url=None, entities={'description': {'urls': []}}, protected=False, followers_count=0, friends_count=0, listed_count=0, created_at=datetime.datetime(2019, 11, 13, 17, 36, 39), favourites_count=0, utc_offset=None, time_zone=None, geo_enabled=False, verified=False, statuses_count=1, lang=None, contributors_enabled=False, is_translator=False, is_translation_enabled=False, profile_background_color='F5F8FA', profile_background_image_url=None, profile_background_image_url_https=None, profile_background_tile=False, profile_image_url='http://pbs.twimg.com/profile_images/1356726295963475968/Eopr6DZK_normal.jpg', profile_image_url_https='https://pbs.twimg.com/profile_images/1356726295963475968/Eopr6DZK_normal.jpg', profile_link_color='1DA1F2', profile_sidebar_border_color='C0DEED', profile_sidebar_fill_color='DDEEF6', profile_text_color='333333', profile_use_background_image=True, has_extended_profile=True, default_profile=True, default_profile_image=False, following=False, follow_request_sent=False, notifications=False, translator_type='none'), user=User(_api=<tweepy.api.API object at 0x7f08c42180a0>, _json={'id': 1194670380402610176, 'id_str': '1194670380402610176', 'name': 'firebot', 'screen_name': 'CFirebot', 'location': 'Southern California', 'description': '', 'url': None, 'entities': {'description': {'urls': []}}, 'protected': False, 'followers_count': 0, 'friends_count': 0, 'listed_count': 0, 'created_at': 'Wed Nov 13 17:36:39 +0000 2019', 'favourites_count': 0, 'utc_offset': None, 'time_zone': None, 'geo_enabled': False, 'verified': False, 'statuses_count': 1, 'lang': None, 'contributors_enabled': False, 'is_translator': False, 'is_translation_enabled': False, 'profile_background_color': 'F5F8FA', 'profile_background_image_url': None, 'profile_background_image_url_https': None, 'profile_background_tile': False, 'profile_image_url': 'http://pbs.twimg.com/profile_images/1356726295963475968/Eopr6DZK_normal.jpg', 'profile_image_url_https': 'https://pbs.twimg.com/profile_images/1356726295963475968/Eopr6DZK_normal.jpg', 'profile_link_color': '1DA1F2', 'profile_sidebar_border_color': 'C0DEED', 'profile_sidebar_fill_color': 'DDEEF6', 'profile_text_color': '333333', 'profile_use_background_image': True, 'has_extended_profile': True, 'default_profile': True, 'default_profile_image': False, 'following': False, 'follow_request_sent': False, 'notifications': False, 'translator_type': 'none'}, id=1194670380402610176, id_str='1194670380402610176', name='firebot', screen_name='CFirebot', location='Southern California', description='', url=None, entities={'description': {'urls': []}}, protected=False, followers_count=0, friends_count=0, listed_count=0, created_at=datetime.datetime(2019, 11, 13, 17, 36, 39), favourites_count=0, utc_offset=None, time_zone=None, geo_enabled=False, verified=False, statuses_count=1, lang=None, contributors_enabled=False, is_translator=False, is_translation_enabled=False, profile_background_color='F5F8FA', profile_background_image_url=None, profile_background_image_url_https=None, profile_background_tile=False, profile_image_url='http://pbs.twimg.com/profile_images/1356726295963475968/Eopr6DZK_normal.jpg', profile_image_url_https='https://pbs.twimg.com/profile_images/1356726295963475968/Eopr6DZK_normal.jpg', profile_link_color='1DA1F2', profile_sidebar_border_color='C0DEED', profile_sidebar_fill_color='DDEEF6', profile_text_color='333333', profile_use_background_image=True, has_extended_profile=True, default_profile=True, default_profile_image=False, following=False, follow_request_sent=False, notifications=False, translator_type='none'), geo=None, coordinates=None, place=None, contributors=None, is_quote_status=False, retweet_count=0, favorite_count=0, favorited=False, retweeted=False, lang='en')"
      ]
     },
     "execution_count": 10,
     "metadata": {},
     "output_type": "execute_result"
    }
   ],
   "source": [
    "api.update_status(status='Need a light?')"
   ]
  },
  {
   "cell_type": "code",
   "execution_count": 11,
   "metadata": {},
   "outputs": [
    {
     "name": "stdout",
     "output_type": "stream",
     "text": [
      "Need a light?\n"
     ]
    }
   ],
   "source": [
    "public_tweets = api.home_timeline()\n",
    "for tweet in public_tweets:\n",
    "    print(tweet.text)"
   ]
  },
  {
   "cell_type": "markdown",
   "metadata": {},
   "source": [
    "## Searching and parsing users and tweets"
   ]
  },
  {
   "cell_type": "code",
   "execution_count": 12,
   "metadata": {
    "scrolled": true
   },
   "outputs": [
    {
     "name": "stdout",
     "output_type": "stream",
     "text": [
      "[User(_api=<tweepy.api.API object at 0x7f08c42180a0>, _json={'id': 45966110, 'id_str': '45966110', 'name': 'Gengar', 'screen_name': 'fiendskrah', 'location': 'California', 'description': 'regular person (alternate outfit)', 'url': None, 'entities': {'description': {'urls': []}}, 'protected': False, 'followers_count': 137, 'friends_count': 465, 'listed_count': 2, 'created_at': 'Tue Jun 09 22:39:54 +0000 2009', 'favourites_count': 17872, 'utc_offset': None, 'time_zone': None, 'geo_enabled': True, 'verified': False, 'statuses_count': 11923, 'lang': None, 'status': {'created_at': 'Thu Feb 25 15:52:31 +0000 2021', 'id': 1364966515859222539, 'id_str': '1364966515859222539', 'text': '@feraljokes You hate to bear witness', 'truncated': False, 'entities': {'hashtags': [], 'symbols': [], 'user_mentions': [{'screen_name': 'feraljokes', 'name': 'JAKE FLORES', 'id': 18194194, 'id_str': '18194194', 'indices': [0, 11]}], 'urls': []}, 'source': '<a href=\"http://twitter.com/download/android\" rel=\"nofollow\">Twitter for Android</a>', 'in_reply_to_status_id': 1364708447007223815, 'in_reply_to_status_id_str': '1364708447007223815', 'in_reply_to_user_id': 18194194, 'in_reply_to_user_id_str': '18194194', 'in_reply_to_screen_name': 'feraljokes', 'geo': None, 'coordinates': None, 'place': None, 'contributors': None, 'is_quote_status': False, 'retweet_count': 0, 'favorite_count': 0, 'favorited': False, 'retweeted': False, 'lang': 'en'}, 'contributors_enabled': False, 'is_translator': False, 'is_translation_enabled': False, 'profile_background_color': '022330', 'profile_background_image_url': 'http://abs.twimg.com/images/themes/theme15/bg.png', 'profile_background_image_url_https': 'https://abs.twimg.com/images/themes/theme15/bg.png', 'profile_background_tile': False, 'profile_image_url': 'http://pbs.twimg.com/profile_images/1326262841377087488/p1hEmUCJ_normal.jpg', 'profile_image_url_https': 'https://pbs.twimg.com/profile_images/1326262841377087488/p1hEmUCJ_normal.jpg', 'profile_banner_url': 'https://pbs.twimg.com/profile_banners/45966110/1610047790', 'profile_link_color': '0084B4', 'profile_sidebar_border_color': 'A8C7F7', 'profile_sidebar_fill_color': 'C0DFEC', 'profile_text_color': '333333', 'profile_use_background_image': True, 'has_extended_profile': False, 'default_profile': False, 'default_profile_image': False, 'following': False, 'follow_request_sent': False, 'notifications': False, 'translator_type': 'none'}, id=45966110, id_str='45966110', name='Gengar', screen_name='fiendskrah', location='California', description='regular person (alternate outfit)', url=None, entities={'description': {'urls': []}}, protected=False, followers_count=137, friends_count=465, listed_count=2, created_at=datetime.datetime(2009, 6, 9, 22, 39, 54), favourites_count=17872, utc_offset=None, time_zone=None, geo_enabled=True, verified=False, statuses_count=11923, lang=None, status=Status(_api=<tweepy.api.API object at 0x7f08c42180a0>, _json={'created_at': 'Thu Feb 25 15:52:31 +0000 2021', 'id': 1364966515859222539, 'id_str': '1364966515859222539', 'text': '@feraljokes You hate to bear witness', 'truncated': False, 'entities': {'hashtags': [], 'symbols': [], 'user_mentions': [{'screen_name': 'feraljokes', 'name': 'JAKE FLORES', 'id': 18194194, 'id_str': '18194194', 'indices': [0, 11]}], 'urls': []}, 'source': '<a href=\"http://twitter.com/download/android\" rel=\"nofollow\">Twitter for Android</a>', 'in_reply_to_status_id': 1364708447007223815, 'in_reply_to_status_id_str': '1364708447007223815', 'in_reply_to_user_id': 18194194, 'in_reply_to_user_id_str': '18194194', 'in_reply_to_screen_name': 'feraljokes', 'geo': None, 'coordinates': None, 'place': None, 'contributors': None, 'is_quote_status': False, 'retweet_count': 0, 'favorite_count': 0, 'favorited': False, 'retweeted': False, 'lang': 'en'}, created_at=datetime.datetime(2021, 2, 25, 15, 52, 31), id=1364966515859222539, id_str='1364966515859222539', text='@feraljokes You hate to bear witness', truncated=False, entities={'hashtags': [], 'symbols': [], 'user_mentions': [{'screen_name': 'feraljokes', 'name': 'JAKE FLORES', 'id': 18194194, 'id_str': '18194194', 'indices': [0, 11]}], 'urls': []}, source='Twitter for Android', source_url='http://twitter.com/download/android', in_reply_to_status_id=1364708447007223815, in_reply_to_status_id_str='1364708447007223815', in_reply_to_user_id=18194194, in_reply_to_user_id_str='18194194', in_reply_to_screen_name='feraljokes', geo=None, coordinates=None, place=None, contributors=None, is_quote_status=False, retweet_count=0, favorite_count=0, favorited=False, retweeted=False, lang='en'), contributors_enabled=False, is_translator=False, is_translation_enabled=False, profile_background_color='022330', profile_background_image_url='http://abs.twimg.com/images/themes/theme15/bg.png', profile_background_image_url_https='https://abs.twimg.com/images/themes/theme15/bg.png', profile_background_tile=False, profile_image_url='http://pbs.twimg.com/profile_images/1326262841377087488/p1hEmUCJ_normal.jpg', profile_image_url_https='https://pbs.twimg.com/profile_images/1326262841377087488/p1hEmUCJ_normal.jpg', profile_banner_url='https://pbs.twimg.com/profile_banners/45966110/1610047790', profile_link_color='0084B4', profile_sidebar_border_color='A8C7F7', profile_sidebar_fill_color='C0DFEC', profile_text_color='333333', profile_use_background_image=True, has_extended_profile=False, default_profile=False, default_profile_image=False, following=False, follow_request_sent=False, notifications=False, translator_type='none')]\n"
     ]
    }
   ],
   "source": [
    "print(api.search_users('fiendskrah'))\n",
    "# search for a user by name"
   ]
  },
  {
   "cell_type": "markdown",
   "metadata": {},
   "source": [
    "calling specific users or specific tweets will lend itself most to scripting use when translated into their `id`, which are just strings of numbers"
   ]
  },
  {
   "cell_type": "code",
   "execution_count": 13,
   "metadata": {},
   "outputs": [
    {
     "data": {
      "text/plain": [
       "User(_api=<tweepy.api.API object at 0x7f08c42180a0>, _json={'id': 45966110, 'id_str': '45966110', 'name': 'Gengar', 'screen_name': 'fiendskrah', 'location': 'California', 'profile_location': None, 'description': 'regular person (alternate outfit)', 'url': None, 'entities': {'description': {'urls': []}}, 'protected': False, 'followers_count': 137, 'friends_count': 465, 'listed_count': 2, 'created_at': 'Tue Jun 09 22:39:54 +0000 2009', 'favourites_count': 17872, 'utc_offset': None, 'time_zone': None, 'geo_enabled': True, 'verified': False, 'statuses_count': 11923, 'lang': None, 'status': {'created_at': 'Thu Feb 25 15:52:31 +0000 2021', 'id': 1364966515859222539, 'id_str': '1364966515859222539', 'text': '@feraljokes You hate to bear witness', 'truncated': False, 'entities': {'hashtags': [], 'symbols': [], 'user_mentions': [{'screen_name': 'feraljokes', 'name': 'JAKE FLORES', 'id': 18194194, 'id_str': '18194194', 'indices': [0, 11]}], 'urls': []}, 'source': '<a href=\"http://twitter.com/download/android\" rel=\"nofollow\">Twitter for Android</a>', 'in_reply_to_status_id': 1364708447007223815, 'in_reply_to_status_id_str': '1364708447007223815', 'in_reply_to_user_id': 18194194, 'in_reply_to_user_id_str': '18194194', 'in_reply_to_screen_name': 'feraljokes', 'geo': None, 'coordinates': None, 'place': None, 'contributors': None, 'is_quote_status': False, 'retweet_count': 0, 'favorite_count': 0, 'favorited': False, 'retweeted': False, 'lang': 'en'}, 'contributors_enabled': False, 'is_translator': False, 'is_translation_enabled': False, 'profile_background_color': '022330', 'profile_background_image_url': 'http://abs.twimg.com/images/themes/theme15/bg.png', 'profile_background_image_url_https': 'https://abs.twimg.com/images/themes/theme15/bg.png', 'profile_background_tile': False, 'profile_image_url': 'http://pbs.twimg.com/profile_images/1326262841377087488/p1hEmUCJ_normal.jpg', 'profile_image_url_https': 'https://pbs.twimg.com/profile_images/1326262841377087488/p1hEmUCJ_normal.jpg', 'profile_banner_url': 'https://pbs.twimg.com/profile_banners/45966110/1610047790', 'profile_link_color': '0084B4', 'profile_sidebar_border_color': 'A8C7F7', 'profile_sidebar_fill_color': 'C0DFEC', 'profile_text_color': '333333', 'profile_use_background_image': True, 'has_extended_profile': False, 'default_profile': False, 'default_profile_image': False, 'following': False, 'follow_request_sent': False, 'notifications': False, 'translator_type': 'none'}, id=45966110, id_str='45966110', name='Gengar', screen_name='fiendskrah', location='California', profile_location=None, description='regular person (alternate outfit)', url=None, entities={'description': {'urls': []}}, protected=False, followers_count=137, friends_count=465, listed_count=2, created_at=datetime.datetime(2009, 6, 9, 22, 39, 54), favourites_count=17872, utc_offset=None, time_zone=None, geo_enabled=True, verified=False, statuses_count=11923, lang=None, status=Status(_api=<tweepy.api.API object at 0x7f08c42180a0>, _json={'created_at': 'Thu Feb 25 15:52:31 +0000 2021', 'id': 1364966515859222539, 'id_str': '1364966515859222539', 'text': '@feraljokes You hate to bear witness', 'truncated': False, 'entities': {'hashtags': [], 'symbols': [], 'user_mentions': [{'screen_name': 'feraljokes', 'name': 'JAKE FLORES', 'id': 18194194, 'id_str': '18194194', 'indices': [0, 11]}], 'urls': []}, 'source': '<a href=\"http://twitter.com/download/android\" rel=\"nofollow\">Twitter for Android</a>', 'in_reply_to_status_id': 1364708447007223815, 'in_reply_to_status_id_str': '1364708447007223815', 'in_reply_to_user_id': 18194194, 'in_reply_to_user_id_str': '18194194', 'in_reply_to_screen_name': 'feraljokes', 'geo': None, 'coordinates': None, 'place': None, 'contributors': None, 'is_quote_status': False, 'retweet_count': 0, 'favorite_count': 0, 'favorited': False, 'retweeted': False, 'lang': 'en'}, created_at=datetime.datetime(2021, 2, 25, 15, 52, 31), id=1364966515859222539, id_str='1364966515859222539', text='@feraljokes You hate to bear witness', truncated=False, entities={'hashtags': [], 'symbols': [], 'user_mentions': [{'screen_name': 'feraljokes', 'name': 'JAKE FLORES', 'id': 18194194, 'id_str': '18194194', 'indices': [0, 11]}], 'urls': []}, source='Twitter for Android', source_url='http://twitter.com/download/android', in_reply_to_status_id=1364708447007223815, in_reply_to_status_id_str='1364708447007223815', in_reply_to_user_id=18194194, in_reply_to_user_id_str='18194194', in_reply_to_screen_name='feraljokes', geo=None, coordinates=None, place=None, contributors=None, is_quote_status=False, retweet_count=0, favorite_count=0, favorited=False, retweeted=False, lang='en'), contributors_enabled=False, is_translator=False, is_translation_enabled=False, profile_background_color='022330', profile_background_image_url='http://abs.twimg.com/images/themes/theme15/bg.png', profile_background_image_url_https='https://abs.twimg.com/images/themes/theme15/bg.png', profile_background_tile=False, profile_image_url='http://pbs.twimg.com/profile_images/1326262841377087488/p1hEmUCJ_normal.jpg', profile_image_url_https='https://pbs.twimg.com/profile_images/1326262841377087488/p1hEmUCJ_normal.jpg', profile_banner_url='https://pbs.twimg.com/profile_banners/45966110/1610047790', profile_link_color='0084B4', profile_sidebar_border_color='A8C7F7', profile_sidebar_fill_color='C0DFEC', profile_text_color='333333', profile_use_background_image=True, has_extended_profile=False, default_profile=False, default_profile_image=False, following=False, follow_request_sent=False, notifications=False, translator_type='none')"
      ]
     },
     "execution_count": 13,
     "metadata": {},
     "output_type": "execute_result"
    }
   ],
   "source": [
    "api.get_user(45966110)"
   ]
  },
  {
   "cell_type": "code",
   "execution_count": 14,
   "metadata": {},
   "outputs": [
    {
     "data": {
      "text/plain": [
       "User(_api=<tweepy.api.API object at 0x7f08c42180a0>, _json={'id': 45966110, 'id_str': '45966110', 'name': 'Gengar', 'screen_name': 'fiendskrah', 'location': 'California', 'description': 'regular person (alternate outfit)', 'url': None, 'entities': {'description': {'urls': []}}, 'protected': False, 'followers_count': 138, 'friends_count': 465, 'listed_count': 2, 'created_at': 'Tue Jun 09 22:39:54 +0000 2009', 'favourites_count': 17872, 'utc_offset': None, 'time_zone': None, 'geo_enabled': True, 'verified': False, 'statuses_count': 11923, 'lang': None, 'status': {'created_at': 'Thu Feb 25 15:52:31 +0000 2021', 'id': 1364966515859222539, 'id_str': '1364966515859222539', 'text': '@feraljokes You hate to bear witness', 'truncated': False, 'entities': {'hashtags': [], 'symbols': [], 'user_mentions': [{'screen_name': 'feraljokes', 'name': 'JAKE FLORES', 'id': 18194194, 'id_str': '18194194', 'indices': [0, 11]}], 'urls': []}, 'source': '<a href=\"http://twitter.com/download/android\" rel=\"nofollow\">Twitter for Android</a>', 'in_reply_to_status_id': 1364708447007223815, 'in_reply_to_status_id_str': '1364708447007223815', 'in_reply_to_user_id': 18194194, 'in_reply_to_user_id_str': '18194194', 'in_reply_to_screen_name': 'feraljokes', 'geo': None, 'coordinates': None, 'place': None, 'contributors': None, 'is_quote_status': False, 'retweet_count': 0, 'favorite_count': 0, 'favorited': False, 'retweeted': False, 'lang': 'en'}, 'contributors_enabled': False, 'is_translator': False, 'is_translation_enabled': False, 'profile_background_color': '022330', 'profile_background_image_url': 'http://abs.twimg.com/images/themes/theme15/bg.png', 'profile_background_image_url_https': 'https://abs.twimg.com/images/themes/theme15/bg.png', 'profile_background_tile': False, 'profile_image_url': 'http://pbs.twimg.com/profile_images/1326262841377087488/p1hEmUCJ_normal.jpg', 'profile_image_url_https': 'https://pbs.twimg.com/profile_images/1326262841377087488/p1hEmUCJ_normal.jpg', 'profile_banner_url': 'https://pbs.twimg.com/profile_banners/45966110/1610047790', 'profile_link_color': '0084B4', 'profile_sidebar_border_color': 'A8C7F7', 'profile_sidebar_fill_color': 'C0DFEC', 'profile_text_color': '333333', 'profile_use_background_image': True, 'has_extended_profile': False, 'default_profile': False, 'default_profile_image': False, 'following': False, 'follow_request_sent': False, 'notifications': False, 'muting': False, 'translator_type': 'none'}, id=45966110, id_str='45966110', name='Gengar', screen_name='fiendskrah', location='California', description='regular person (alternate outfit)', url=None, entities={'description': {'urls': []}}, protected=False, followers_count=138, friends_count=465, listed_count=2, created_at=datetime.datetime(2009, 6, 9, 22, 39, 54), favourites_count=17872, utc_offset=None, time_zone=None, geo_enabled=True, verified=False, statuses_count=11923, lang=None, status=Status(_api=<tweepy.api.API object at 0x7f08c42180a0>, _json={'created_at': 'Thu Feb 25 15:52:31 +0000 2021', 'id': 1364966515859222539, 'id_str': '1364966515859222539', 'text': '@feraljokes You hate to bear witness', 'truncated': False, 'entities': {'hashtags': [], 'symbols': [], 'user_mentions': [{'screen_name': 'feraljokes', 'name': 'JAKE FLORES', 'id': 18194194, 'id_str': '18194194', 'indices': [0, 11]}], 'urls': []}, 'source': '<a href=\"http://twitter.com/download/android\" rel=\"nofollow\">Twitter for Android</a>', 'in_reply_to_status_id': 1364708447007223815, 'in_reply_to_status_id_str': '1364708447007223815', 'in_reply_to_user_id': 18194194, 'in_reply_to_user_id_str': '18194194', 'in_reply_to_screen_name': 'feraljokes', 'geo': None, 'coordinates': None, 'place': None, 'contributors': None, 'is_quote_status': False, 'retweet_count': 0, 'favorite_count': 0, 'favorited': False, 'retweeted': False, 'lang': 'en'}, created_at=datetime.datetime(2021, 2, 25, 15, 52, 31), id=1364966515859222539, id_str='1364966515859222539', text='@feraljokes You hate to bear witness', truncated=False, entities={'hashtags': [], 'symbols': [], 'user_mentions': [{'screen_name': 'feraljokes', 'name': 'JAKE FLORES', 'id': 18194194, 'id_str': '18194194', 'indices': [0, 11]}], 'urls': []}, source='Twitter for Android', source_url='http://twitter.com/download/android', in_reply_to_status_id=1364708447007223815, in_reply_to_status_id_str='1364708447007223815', in_reply_to_user_id=18194194, in_reply_to_user_id_str='18194194', in_reply_to_screen_name='feraljokes', geo=None, coordinates=None, place=None, contributors=None, is_quote_status=False, retweet_count=0, favorite_count=0, favorited=False, retweeted=False, lang='en'), contributors_enabled=False, is_translator=False, is_translation_enabled=False, profile_background_color='022330', profile_background_image_url='http://abs.twimg.com/images/themes/theme15/bg.png', profile_background_image_url_https='https://abs.twimg.com/images/themes/theme15/bg.png', profile_background_tile=False, profile_image_url='http://pbs.twimg.com/profile_images/1326262841377087488/p1hEmUCJ_normal.jpg', profile_image_url_https='https://pbs.twimg.com/profile_images/1326262841377087488/p1hEmUCJ_normal.jpg', profile_banner_url='https://pbs.twimg.com/profile_banners/45966110/1610047790', profile_link_color='0084B4', profile_sidebar_border_color='A8C7F7', profile_sidebar_fill_color='C0DFEC', profile_text_color='333333', profile_use_background_image=True, has_extended_profile=False, default_profile=False, default_profile_image=False, following=False, follow_request_sent=False, notifications=False, muting=False, translator_type='none')"
      ]
     },
     "execution_count": 14,
     "metadata": {},
     "output_type": "execute_result"
    }
   ],
   "source": [
    "api.create_friendship(45966110)\n",
    "# this looks like it calls the profile as well as some portion of recent tweets?"
   ]
  },
  {
   "cell_type": "code",
   "execution_count": 15,
   "metadata": {
    "scrolled": false
   },
   "outputs": [
    {
     "data": {
      "text/plain": [
       "User(_api=<tweepy.api.API object at 0x7f08c42180a0>, _json={'id': 45966110, 'id_str': '45966110', 'name': 'Gengar', 'screen_name': 'fiendskrah', 'location': 'California', 'description': 'regular person (alternate outfit)', 'url': None, 'entities': {'description': {'urls': []}}, 'protected': False, 'followers_count': 137, 'friends_count': 465, 'listed_count': 2, 'created_at': 'Tue Jun 09 22:39:54 +0000 2009', 'favourites_count': 17872, 'utc_offset': None, 'time_zone': None, 'geo_enabled': True, 'verified': False, 'statuses_count': 11923, 'lang': None, 'status': {'created_at': 'Thu Feb 25 15:52:31 +0000 2021', 'id': 1364966515859222539, 'id_str': '1364966515859222539', 'text': '@feraljokes You hate to bear witness', 'truncated': False, 'entities': {'hashtags': [], 'symbols': [], 'user_mentions': [{'screen_name': 'feraljokes', 'name': 'JAKE FLORES', 'id': 18194194, 'id_str': '18194194', 'indices': [0, 11]}], 'urls': []}, 'source': '<a href=\"http://twitter.com/download/android\" rel=\"nofollow\">Twitter for Android</a>', 'in_reply_to_status_id': 1364708447007223815, 'in_reply_to_status_id_str': '1364708447007223815', 'in_reply_to_user_id': 18194194, 'in_reply_to_user_id_str': '18194194', 'in_reply_to_screen_name': 'feraljokes', 'geo': None, 'coordinates': None, 'place': None, 'contributors': None, 'is_quote_status': False, 'retweet_count': 0, 'favorite_count': 0, 'favorited': False, 'retweeted': False, 'lang': 'en'}, 'contributors_enabled': False, 'is_translator': False, 'is_translation_enabled': False, 'profile_background_color': '022330', 'profile_background_image_url': 'http://abs.twimg.com/images/themes/theme15/bg.png', 'profile_background_image_url_https': 'https://abs.twimg.com/images/themes/theme15/bg.png', 'profile_background_tile': False, 'profile_image_url': 'http://pbs.twimg.com/profile_images/1326262841377087488/p1hEmUCJ_normal.jpg', 'profile_image_url_https': 'https://pbs.twimg.com/profile_images/1326262841377087488/p1hEmUCJ_normal.jpg', 'profile_banner_url': 'https://pbs.twimg.com/profile_banners/45966110/1610047790', 'profile_link_color': '0084B4', 'profile_sidebar_border_color': 'A8C7F7', 'profile_sidebar_fill_color': 'C0DFEC', 'profile_text_color': '333333', 'profile_use_background_image': True, 'has_extended_profile': False, 'default_profile': False, 'default_profile_image': False, 'following': True, 'follow_request_sent': False, 'notifications': False, 'muting': False, 'translator_type': 'none'}, id=45966110, id_str='45966110', name='Gengar', screen_name='fiendskrah', location='California', description='regular person (alternate outfit)', url=None, entities={'description': {'urls': []}}, protected=False, followers_count=137, friends_count=465, listed_count=2, created_at=datetime.datetime(2009, 6, 9, 22, 39, 54), favourites_count=17872, utc_offset=None, time_zone=None, geo_enabled=True, verified=False, statuses_count=11923, lang=None, status=Status(_api=<tweepy.api.API object at 0x7f08c42180a0>, _json={'created_at': 'Thu Feb 25 15:52:31 +0000 2021', 'id': 1364966515859222539, 'id_str': '1364966515859222539', 'text': '@feraljokes You hate to bear witness', 'truncated': False, 'entities': {'hashtags': [], 'symbols': [], 'user_mentions': [{'screen_name': 'feraljokes', 'name': 'JAKE FLORES', 'id': 18194194, 'id_str': '18194194', 'indices': [0, 11]}], 'urls': []}, 'source': '<a href=\"http://twitter.com/download/android\" rel=\"nofollow\">Twitter for Android</a>', 'in_reply_to_status_id': 1364708447007223815, 'in_reply_to_status_id_str': '1364708447007223815', 'in_reply_to_user_id': 18194194, 'in_reply_to_user_id_str': '18194194', 'in_reply_to_screen_name': 'feraljokes', 'geo': None, 'coordinates': None, 'place': None, 'contributors': None, 'is_quote_status': False, 'retweet_count': 0, 'favorite_count': 0, 'favorited': False, 'retweeted': False, 'lang': 'en'}, created_at=datetime.datetime(2021, 2, 25, 15, 52, 31), id=1364966515859222539, id_str='1364966515859222539', text='@feraljokes You hate to bear witness', truncated=False, entities={'hashtags': [], 'symbols': [], 'user_mentions': [{'screen_name': 'feraljokes', 'name': 'JAKE FLORES', 'id': 18194194, 'id_str': '18194194', 'indices': [0, 11]}], 'urls': []}, source='Twitter for Android', source_url='http://twitter.com/download/android', in_reply_to_status_id=1364708447007223815, in_reply_to_status_id_str='1364708447007223815', in_reply_to_user_id=18194194, in_reply_to_user_id_str='18194194', in_reply_to_screen_name='feraljokes', geo=None, coordinates=None, place=None, contributors=None, is_quote_status=False, retweet_count=0, favorite_count=0, favorited=False, retweeted=False, lang='en'), contributors_enabled=False, is_translator=False, is_translation_enabled=False, profile_background_color='022330', profile_background_image_url='http://abs.twimg.com/images/themes/theme15/bg.png', profile_background_image_url_https='https://abs.twimg.com/images/themes/theme15/bg.png', profile_background_tile=False, profile_image_url='http://pbs.twimg.com/profile_images/1326262841377087488/p1hEmUCJ_normal.jpg', profile_image_url_https='https://pbs.twimg.com/profile_images/1326262841377087488/p1hEmUCJ_normal.jpg', profile_banner_url='https://pbs.twimg.com/profile_banners/45966110/1610047790', profile_link_color='0084B4', profile_sidebar_border_color='A8C7F7', profile_sidebar_fill_color='C0DFEC', profile_text_color='333333', profile_use_background_image=True, has_extended_profile=False, default_profile=False, default_profile_image=False, following=True, follow_request_sent=False, notifications=False, muting=False, translator_type='none')"
      ]
     },
     "execution_count": 15,
     "metadata": {},
     "output_type": "execute_result"
    }
   ],
   "source": [
    "api.destroy_friendship(45966110)"
   ]
  },
  {
   "cell_type": "code",
   "execution_count": 16,
   "metadata": {},
   "outputs": [
    {
     "data": {
      "text/plain": [
       "[]"
      ]
     },
     "execution_count": 16,
     "metadata": {},
     "output_type": "execute_result"
    }
   ],
   "source": [
    "api.lookup_friendships('fiendskrah')"
   ]
  },
  {
   "cell_type": "markdown",
   "metadata": {},
   "source": [
    "# Pull and parse friend's list"
   ]
  },
  {
   "cell_type": "code",
   "execution_count": null,
   "metadata": {},
   "outputs": [],
   "source": []
  }
 ],
 "metadata": {
  "kernelspec": {
   "display_name": "Python 3",
   "language": "python",
   "name": "python3"
  },
  "language_info": {
   "codemirror_mode": {
    "name": "ipython",
    "version": 3
   },
   "file_extension": ".py",
   "mimetype": "text/x-python",
   "name": "python",
   "nbconvert_exporter": "python",
   "pygments_lexer": "ipython3",
   "version": "3.8.3"
  }
 },
 "nbformat": 4,
 "nbformat_minor": 4
}
