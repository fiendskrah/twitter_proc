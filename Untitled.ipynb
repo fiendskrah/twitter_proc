{
 "cells": [
  {
   "cell_type": "code",
   "execution_count": 1,
   "metadata": {},
   "outputs": [],
   "source": [
    "text = \"\"\"this is a line of text and I am going to read it.\n",
    "here is some more text on another line\n",
    "and a third one for good measure\"\"\""
   ]
  },
  {
   "cell_type": "code",
   "execution_count": 2,
   "metadata": {},
   "outputs": [
    {
     "data": {
      "text/plain": [
       "121"
      ]
     },
     "execution_count": 2,
     "metadata": {},
     "output_type": "execute_result"
    }
   ],
   "source": [
    "len(text)"
   ]
  },
  {
   "cell_type": "code",
   "execution_count": 3,
   "metadata": {},
   "outputs": [],
   "source": [
    "n = 100"
   ]
  },
  {
   "cell_type": "code",
   "execution_count": 4,
   "metadata": {},
   "outputs": [
    {
     "data": {
      "text/plain": [
       "'this is a line of text and I am going to read it.\\nhere is some more text on another line\\nand a third one for good measure'"
      ]
     },
     "execution_count": 4,
     "metadata": {},
     "output_type": "execute_result"
    }
   ],
   "source": [
    "text"
   ]
  },
  {
   "cell_type": "code",
   "execution_count": 5,
   "metadata": {},
   "outputs": [],
   "source": [
    "tokens = [' ', '\\n']"
   ]
  },
  {
   "cell_type": "code",
   "execution_count": 6,
   "metadata": {
    "scrolled": true
   },
   "outputs": [
    {
     "data": {
      "text/plain": [
       "[' ',\n",
       " ' ',\n",
       " ' ',\n",
       " ' ',\n",
       " ' ',\n",
       " ' ',\n",
       " ' ',\n",
       " ' ',\n",
       " ' ',\n",
       " ' ',\n",
       " ' ',\n",
       " ' ',\n",
       " '\\n',\n",
       " ' ',\n",
       " ' ',\n",
       " ' ',\n",
       " ' ',\n",
       " ' ',\n",
       " ' ',\n",
       " ' ',\n",
       " '\\n',\n",
       " ' ',\n",
       " ' ',\n",
       " ' ',\n",
       " ' ',\n",
       " ' ',\n",
       " ' ']"
      ]
     },
     "execution_count": 6,
     "metadata": {},
     "output_type": "execute_result"
    }
   ],
   "source": [
    "[c for c in text if c in tokens]"
   ]
  },
  {
   "cell_type": "code",
   "execution_count": 7,
   "metadata": {},
   "outputs": [
    {
     "data": {
      "text/plain": [
       "[(4, ' '),\n",
       " (7, ' '),\n",
       " (9, ' '),\n",
       " (14, ' '),\n",
       " (17, ' '),\n",
       " (22, ' '),\n",
       " (26, ' '),\n",
       " (28, ' '),\n",
       " (31, ' '),\n",
       " (37, ' '),\n",
       " (40, ' '),\n",
       " (45, ' '),\n",
       " (49, '\\n'),\n",
       " (54, ' '),\n",
       " (57, ' '),\n",
       " (62, ' '),\n",
       " (67, ' '),\n",
       " (72, ' '),\n",
       " (75, ' '),\n",
       " (83, ' '),\n",
       " (88, '\\n'),\n",
       " (92, ' '),\n",
       " (94, ' '),\n",
       " (100, ' '),\n",
       " (104, ' '),\n",
       " (108, ' '),\n",
       " (113, ' ')]"
      ]
     },
     "execution_count": 7,
     "metadata": {},
     "output_type": "execute_result"
    }
   ],
   "source": [
    "[(i, c) for i, c in enumerate(text) if c in tokens]\n",
    "# tells us what we can split at what character"
   ]
  },
  {
   "cell_type": "code",
   "execution_count": 8,
   "metadata": {},
   "outputs": [
    {
     "data": {
      "text/plain": [
       "3"
      ]
     },
     "execution_count": 8,
     "metadata": {},
     "output_type": "execute_result"
    }
   ],
   "source": [
    "7//2\n",
    "# test behavior of //"
   ]
  },
  {
   "cell_type": "code",
   "execution_count": 9,
   "metadata": {},
   "outputs": [],
   "source": [
    "import numpy"
   ]
  },
  {
   "cell_type": "code",
   "execution_count": 19,
   "metadata": {},
   "outputs": [],
   "source": [
    "def splittext(text, tokens, length=75):\n",
    "    n = len(text)\n",
    "    if n<length: \n",
    "        return text\n",
    "    temp = numpy.array([(i, i//length) for i, c in enumerate(text) if c in tokens])\n",
    "    return temp"
   ]
  },
  {
   "cell_type": "code",
   "execution_count": 20,
   "metadata": {
    "scrolled": true
   },
   "outputs": [
    {
     "data": {
      "text/plain": [
       "array([[  4,   0],\n",
       "       [  7,   0],\n",
       "       [  9,   0],\n",
       "       [ 14,   0],\n",
       "       [ 17,   0],\n",
       "       [ 22,   0],\n",
       "       [ 26,   0],\n",
       "       [ 28,   0],\n",
       "       [ 31,   0],\n",
       "       [ 37,   0],\n",
       "       [ 40,   0],\n",
       "       [ 45,   0],\n",
       "       [ 49,   0],\n",
       "       [ 54,   0],\n",
       "       [ 57,   0],\n",
       "       [ 62,   0],\n",
       "       [ 67,   0],\n",
       "       [ 72,   0],\n",
       "       [ 75,   1],\n",
       "       [ 83,   1],\n",
       "       [ 88,   1],\n",
       "       [ 92,   1],\n",
       "       [ 94,   1],\n",
       "       [100,   1],\n",
       "       [104,   1],\n",
       "       [108,   1],\n",
       "       [113,   1]])"
      ]
     },
     "execution_count": 20,
     "metadata": {},
     "output_type": "execute_result"
    }
   ],
   "source": [
    "splittext(text, tokens)\n",
    "# second number indicates what string the whitespace is on"
   ]
  },
  {
   "cell_type": "code",
   "execution_count": 21,
   "metadata": {},
   "outputs": [],
   "source": [
    "temp = splittext(text, tokens)"
   ]
  },
  {
   "cell_type": "code",
   "execution_count": 22,
   "metadata": {
    "scrolled": true
   },
   "outputs": [
    {
     "data": {
      "text/plain": [
       "array([[4, 0]])"
      ]
     },
     "execution_count": 22,
     "metadata": {},
     "output_type": "execute_result"
    }
   ],
   "source": [
    "temp[:1]"
   ]
  },
  {
   "cell_type": "markdown",
   "metadata": {},
   "source": [
    "`splittext` results in a numpy array. The array needs to be fed into ` `, which produces the strings. "
   ]
  },
  {
   "cell_type": "code",
   "execution_count": 25,
   "metadata": {},
   "outputs": [],
   "source": [
    "uv = numpy.unique(temp[:,1])\n",
    "# how many substrings will be split?"
   ]
  },
  {
   "cell_type": "code",
   "execution_count": 26,
   "metadata": {},
   "outputs": [
    {
     "data": {
      "text/plain": [
       "array([0, 1])"
      ]
     },
     "execution_count": 26,
     "metadata": {},
     "output_type": "execute_result"
    }
   ],
   "source": [
    "uv"
   ]
  },
  {
   "cell_type": "code",
   "execution_count": 27,
   "metadata": {},
   "outputs": [
    {
     "name": "stdout",
     "output_type": "stream",
     "text": [
      "0 17\n",
      "4 72\n",
      "18 26\n",
      "75 113\n"
     ]
    }
   ],
   "source": [
    "for v in uv:\n",
    "    idx = numpy.where(temp[:,1] == v)[0]\n",
    "    first = idx[0]\n",
    "    last = idx[-1]\n",
    "    print(first, last)\n",
    "    print(temp[first, 0], temp[last, 0])"
   ]
  },
  {
   "cell_type": "code",
   "execution_count": 28,
   "metadata": {},
   "outputs": [
    {
     "data": {
      "text/plain": [
       "'this is a line of text and I am going to read it.\\nhere is some more text '"
      ]
     },
     "execution_count": 28,
     "metadata": {},
     "output_type": "execute_result"
    }
   ],
   "source": [
    "text[0:73]"
   ]
  },
  {
   "cell_type": "code",
   "execution_count": 29,
   "metadata": {},
   "outputs": [
    {
     "data": {
      "text/plain": [
       "' another line\\nand a third one for good '"
      ]
     },
     "execution_count": 29,
     "metadata": {},
     "output_type": "execute_result"
    }
   ],
   "source": [
    "text[75:114]"
   ]
  },
  {
   "cell_type": "code",
   "execution_count": 30,
   "metadata": {},
   "outputs": [
    {
     "data": {
      "text/plain": [
       "18"
      ]
     },
     "execution_count": 30,
     "metadata": {},
     "output_type": "execute_result"
    }
   ],
   "source": [
    "first"
   ]
  },
  {
   "cell_type": "code",
   "execution_count": 31,
   "metadata": {},
   "outputs": [
    {
     "data": {
      "text/plain": [
       "26"
      ]
     },
     "execution_count": 31,
     "metadata": {},
     "output_type": "execute_result"
    }
   ],
   "source": [
    "last"
   ]
  },
  {
   "cell_type": "code",
   "execution_count": 32,
   "metadata": {},
   "outputs": [
    {
     "name": "stdout",
     "output_type": "stream",
     "text": [
      "this is a line of text and I am going to read it.\n",
      "here is some more text on\n"
     ]
    }
   ],
   "source": [
    "print(text[0:75])"
   ]
  },
  {
   "cell_type": "code",
   "execution_count": 33,
   "metadata": {},
   "outputs": [
    {
     "name": "stdout",
     "output_type": "stream",
     "text": [
      " another line\n",
      "and a third one for good measure\n"
     ]
    }
   ],
   "source": [
    "print(text[75:])"
   ]
  }
 ],
 "metadata": {
  "kernelspec": {
   "display_name": "Python 3",
   "language": "python",
   "name": "python3"
  },
  "language_info": {
   "codemirror_mode": {
    "name": "ipython",
    "version": 3
   },
   "file_extension": ".py",
   "mimetype": "text/x-python",
   "name": "python",
   "nbconvert_exporter": "python",
   "pygments_lexer": "ipython3",
   "version": "3.9.0"
  }
 },
 "nbformat": 4,
 "nbformat_minor": 4
}
