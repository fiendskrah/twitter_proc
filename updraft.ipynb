{
 "cells": [
  {
   "cell_type": "code",
   "execution_count": 8,
   "metadata": {},
   "outputs": [],
   "source": [
    "from functions import splittext"
   ]
  },
  {
   "cell_type": "markdown",
   "metadata": {},
   "source": [
    "Testing out the splittext function with an abstract from a recent paper."
   ]
  },
  {
   "cell_type": "code",
   "execution_count": 29,
   "metadata": {},
   "outputs": [],
   "source": [
    "import numpy"
   ]
  },
  {
   "cell_type": "code",
   "execution_count": 10,
   "metadata": {},
   "outputs": [],
   "source": [
    "f = open('abstract.txt', 'r')\n",
    "abstract = f.read()"
   ]
  },
  {
   "cell_type": "code",
   "execution_count": 11,
   "metadata": {},
   "outputs": [
    {
     "name": "stdout",
     "output_type": "stream",
     "text": [
      "Abstract\n",
      "Choropleth mapping is an essential visualization technique for exploratory spatial data analysis. Visualizing multiple choropleth maps is a technique that spatial analysts use to reveal spatiotemporal patterns of one variable or to compare the geographical distributions of multiple variables. Critical features for effective exploration of multiple choropleth maps are (1) automated computation of the same class intervals for shading different choropleth maps, (2) dynamic visualization of local variation in a variable, and (3) linking for synchronous exploration of multiple choropleth maps. Since the 1990s, these features have been developed and are now included in many commercial geographic information system (GIS) software packages. However, many choropleth mapping tools include only one or two of the three features described above. On the other hand, freely available mapping tools that support side-by-side multiple choropleth map visualizations are usually desktop software only. As a result, most existing tools supporting multiple choropleth-map visualizations cannot be easily integrated with Web-based and open-source data visualization libraries, which have become mainstream in visual analytics and geovisualization. To fill this gap, we introduce an open-source Web-based choropleth mapping tool called the Adaptive Choropleth Mapper (ACM), which combines the three critical features for flexible choropleth mapping.\n"
     ]
    }
   ],
   "source": [
    "print(abstract)"
   ]
  },
  {
   "cell_type": "code",
   "execution_count": 12,
   "metadata": {},
   "outputs": [],
   "source": [
    "ab = splittext(abstract)"
   ]
  },
  {
   "cell_type": "code",
   "execution_count": 24,
   "metadata": {},
   "outputs": [
    {
     "data": {
      "text/plain": [
       "array([0, 1, 2, 3, 4, 5, 6, 7])"
      ]
     },
     "execution_count": 24,
     "metadata": {},
     "output_type": "execute_result"
    }
   ],
   "source": [
    "numpy.unique(ab[:,-1])"
   ]
  },
  {
   "cell_type": "code",
   "execution_count": 32,
   "metadata": {},
   "outputs": [
    {
     "data": {
      "text/plain": [
       "array([[   8,    0],\n",
       "       [  19,    0],\n",
       "       [  27,    0],\n",
       "       [  30,    0],\n",
       "       [  33,    0],\n",
       "       [  43,    0],\n",
       "       [  57,    0],\n",
       "       [  67,    0],\n",
       "       [  71,    0],\n",
       "       [  83,    0],\n",
       "       [  91,    0],\n",
       "       [  96,    0],\n",
       "       [ 106,    0],\n",
       "       [ 118,    0],\n",
       "       [ 127,    0],\n",
       "       [ 138,    0],\n",
       "       [ 143,    0],\n",
       "       [ 146,    0],\n",
       "       [ 148,    0],\n",
       "       [ 158,    0],\n",
       "       [ 163,    0],\n",
       "       [ 171,    0],\n",
       "       [ 180,    0],\n",
       "       [ 184,    0],\n",
       "       [ 187,    0],\n",
       "       [ 194,    0],\n",
       "       [ 209,    1],\n",
       "       [ 218,    1],\n",
       "       [ 221,    1],\n",
       "       [ 225,    1],\n",
       "       [ 234,    1],\n",
       "       [ 237,    1],\n",
       "       [ 240,    1],\n",
       "       [ 248,    1],\n",
       "       [ 252,    1],\n",
       "       [ 265,    1],\n",
       "       [ 279,    1],\n",
       "       [ 282,    1],\n",
       "       [ 291,    1],\n",
       "       [ 302,    1],\n",
       "       [ 311,    1],\n",
       "       [ 320,    1],\n",
       "       [ 324,    1],\n",
       "       [ 334,    1],\n",
       "       [ 346,    1],\n",
       "       [ 349,    1],\n",
       "       [ 358,    1],\n",
       "       [ 369,    1],\n",
       "       [ 374,    1],\n",
       "       [ 378,    1],\n",
       "       [ 382,    1],\n",
       "       [ 392,    1],\n",
       "       [ 404,    2],\n",
       "       [ 407,    2],\n",
       "       [ 411,    2],\n",
       "       [ 416,    2],\n",
       "       [ 422,    2],\n",
       "       [ 432,    2],\n",
       "       [ 436,    2],\n",
       "       [ 444,    2],\n",
       "       [ 454,    2],\n",
       "       [ 465,    2],\n",
       "       [ 471,    2],\n",
       "       [ 475,    2],\n",
       "       [ 483,    2],\n",
       "       [ 497,    2],\n",
       "       [ 500,    2],\n",
       "       [ 506,    2],\n",
       "       [ 516,    2],\n",
       "       [ 519,    2],\n",
       "       [ 521,    2],\n",
       "       [ 531,    2],\n",
       "       [ 535,    2],\n",
       "       [ 539,    2],\n",
       "       [ 547,    2],\n",
       "       [ 551,    2],\n",
       "       [ 563,    2],\n",
       "       [ 575,    2],\n",
       "       [ 578,    2],\n",
       "       [ 587,    2],\n",
       "       [ 598,    2],\n",
       "       [ 604,    3],\n",
       "       [ 610,    3],\n",
       "       [ 614,    3],\n",
       "       [ 621,    3],\n",
       "       [ 627,    3],\n",
       "       [ 636,    3],\n",
       "       [ 641,    3],\n",
       "       [ 646,    3],\n",
       "       [ 656,    3],\n",
       "       [ 660,    3],\n",
       "       [ 664,    3],\n",
       "       [ 668,    3],\n",
       "       [ 677,    3],\n",
       "       [ 680,    3],\n",
       "       [ 685,    3],\n",
       "       [ 696,    3],\n",
       "       [ 707,    3],\n",
       "       [ 719,    3],\n",
       "       [ 726,    3],\n",
       "       [ 732,    3],\n",
       "       [ 741,    3],\n",
       "       [ 751,    3],\n",
       "       [ 760,    3],\n",
       "       [ 765,    3],\n",
       "       [ 776,    3],\n",
       "       [ 784,    3],\n",
       "       [ 790,    3],\n",
       "       [ 798,    3],\n",
       "       [ 803,    4],\n",
       "       [ 807,    4],\n",
       "       [ 810,    4],\n",
       "       [ 814,    4],\n",
       "       [ 817,    4],\n",
       "       [ 821,    4],\n",
       "       [ 827,    4],\n",
       "       [ 836,    4],\n",
       "       [ 846,    4],\n",
       "       [ 853,    4],\n",
       "       [ 856,    4],\n",
       "       [ 860,    4],\n",
       "       [ 866,    4],\n",
       "       [ 872,    4],\n",
       "       [ 879,    4],\n",
       "       [ 889,    4],\n",
       "       [ 897,    4],\n",
       "       [ 903,    4],\n",
       "       [ 908,    4],\n",
       "       [ 916,    4],\n",
       "       [ 929,    4],\n",
       "       [ 938,    4],\n",
       "       [ 949,    4],\n",
       "       [ 953,    4],\n",
       "       [ 968,    4],\n",
       "       [ 972,    4],\n",
       "       [ 980,    4],\n",
       "       [ 988,    4],\n",
       "       [ 997,    4],\n",
       "       [1003,    5],\n",
       "       [1006,    5],\n",
       "       [1008,    5],\n",
       "       [1016,    5],\n",
       "       [1021,    5],\n",
       "       [1030,    5],\n",
       "       [1036,    5],\n",
       "       [1047,    5],\n",
       "       [1056,    5],\n",
       "       [1071,    5],\n",
       "       [1086,    5],\n",
       "       [1093,    5],\n",
       "       [1096,    5],\n",
       "       [1103,    5],\n",
       "       [1114,    5],\n",
       "       [1119,    5],\n",
       "       [1129,    5],\n",
       "       [1133,    5],\n",
       "       [1145,    5],\n",
       "       [1150,    5],\n",
       "       [1164,    5],\n",
       "       [1175,    5],\n",
       "       [1181,    5],\n",
       "       [1186,    5],\n",
       "       [1193,    5],\n",
       "       [1204,    6],\n",
       "       [1207,    6],\n",
       "       [1214,    6],\n",
       "       [1224,    6],\n",
       "       [1228,    6],\n",
       "       [1246,    6],\n",
       "       [1249,    6],\n",
       "       [1254,    6],\n",
       "       [1259,    6],\n",
       "       [1264,    6],\n",
       "       [1267,    6],\n",
       "       [1277,    6],\n",
       "       [1280,    6],\n",
       "       [1292,    6],\n",
       "       [1302,    6],\n",
       "       [1313,    6],\n",
       "       [1321,    6],\n",
       "       [1326,    6],\n",
       "       [1333,    6],\n",
       "       [1337,    6],\n",
       "       [1346,    6],\n",
       "       [1357,    6],\n",
       "       [1364,    6],\n",
       "       [1371,    6],\n",
       "       [1377,    6],\n",
       "       [1386,    6],\n",
       "       [1390,    6],\n",
       "       [1396,    6],\n",
       "       [1405,    7],\n",
       "       [1414,    7],\n",
       "       [1418,    7],\n",
       "       [1427,    7],\n",
       "       [1438,    7]])"
      ]
     },
     "execution_count": 32,
     "metadata": {},
     "output_type": "execute_result"
    }
   ],
   "source": [
    "ab"
   ]
  },
  {
   "cell_type": "code",
   "execution_count": 47,
   "metadata": {},
   "outputs": [
    {
     "name": "stderr",
     "output_type": "stream",
     "text": [
      "<ipython-input-47-a6ff72305fd0>:1: DeprecationWarning: elementwise comparison failed; this will raise an error in the future.\n",
      "  idx = numpy.where(ab[:,-1] == i)[0]\n"
     ]
    }
   ],
   "source": [
    "idx = numpy.where(ab[:,-1] == i)[0]"
   ]
  },
  {
   "cell_type": "code",
   "execution_count": 46,
   "metadata": {
    "scrolled": true
   },
   "outputs": [
    {
     "name": "stderr",
     "output_type": "stream",
     "text": [
      "<ipython-input-46-f60af1c4a603>:2: DeprecationWarning: elementwise comparison failed; this will raise an error in the future.\n",
      "  idx = numpy.where(ab[:,-1] == i)[0]\n"
     ]
    },
    {
     "ename": "IndexError",
     "evalue": "index 0 is out of bounds for axis 0 with size 0",
     "output_type": "error",
     "traceback": [
      "\u001b[1;31m---------------------------------------------------------------------------\u001b[0m",
      "\u001b[1;31mIndexError\u001b[0m                                Traceback (most recent call last)",
      "\u001b[1;32m<ipython-input-46-f60af1c4a603>\u001b[0m in \u001b[0;36m<module>\u001b[1;34m\u001b[0m\n\u001b[0;32m      1\u001b[0m \u001b[1;32mfor\u001b[0m \u001b[0mi\u001b[0m \u001b[1;32min\u001b[0m \u001b[0mab\u001b[0m\u001b[1;33m:\u001b[0m\u001b[1;33m\u001b[0m\u001b[1;33m\u001b[0m\u001b[0m\n\u001b[0;32m      2\u001b[0m     \u001b[0midx\u001b[0m \u001b[1;33m=\u001b[0m \u001b[0mnumpy\u001b[0m\u001b[1;33m.\u001b[0m\u001b[0mwhere\u001b[0m\u001b[1;33m(\u001b[0m\u001b[0mab\u001b[0m\u001b[1;33m[\u001b[0m\u001b[1;33m:\u001b[0m\u001b[1;33m,\u001b[0m\u001b[1;33m-\u001b[0m\u001b[1;36m1\u001b[0m\u001b[1;33m]\u001b[0m \u001b[1;33m==\u001b[0m \u001b[0mi\u001b[0m\u001b[1;33m)\u001b[0m\u001b[1;33m[\u001b[0m\u001b[1;36m0\u001b[0m\u001b[1;33m]\u001b[0m\u001b[1;33m\u001b[0m\u001b[1;33m\u001b[0m\u001b[0m\n\u001b[1;32m----> 3\u001b[1;33m     \u001b[0mfirst\u001b[0m \u001b[1;33m=\u001b[0m \u001b[0midx\u001b[0m\u001b[1;33m[\u001b[0m\u001b[1;36m0\u001b[0m\u001b[1;33m]\u001b[0m\u001b[1;33m\u001b[0m\u001b[1;33m\u001b[0m\u001b[0m\n\u001b[0m\u001b[0;32m      4\u001b[0m     \u001b[0mlast\u001b[0m \u001b[1;33m=\u001b[0m \u001b[0midx\u001b[0m\u001b[1;33m[\u001b[0m\u001b[1;33m-\u001b[0m\u001b[1;36m1\u001b[0m\u001b[1;33m]\u001b[0m\u001b[1;33m\u001b[0m\u001b[1;33m\u001b[0m\u001b[0m\n\u001b[0;32m      5\u001b[0m     \u001b[0mprint\u001b[0m\u001b[1;33m(\u001b[0m\u001b[0mfirst\u001b[0m\u001b[1;33m,\u001b[0m \u001b[0mlast\u001b[0m\u001b[1;33m)\u001b[0m\u001b[1;33m\u001b[0m\u001b[1;33m\u001b[0m\u001b[0m\n",
      "\u001b[1;31mIndexError\u001b[0m: index 0 is out of bounds for axis 0 with size 0"
     ]
    }
   ],
   "source": [
    "for i in ab:\n",
    "    idx = numpy.where(ab[:,-1] == i)[0]\n",
    "    first = idx[0]\n",
    "    last = idx[-1]\n",
    "    print(first, last)\n",
    "    print(ab[first, 0], ab[last, 0])"
   ]
  },
  {
   "cell_type": "markdown",
   "metadata": {},
   "source": [
    "updraft will take the array produced by splittext and print the lines at the appropriate length."
   ]
  },
  {
   "cell_type": "code",
   "execution_count": null,
   "metadata": {},
   "outputs": [],
   "source": [
    "def updraft(array)"
   ]
  }
 ],
 "metadata": {
  "kernelspec": {
   "display_name": "Python 3",
   "language": "python",
   "name": "python3"
  },
  "language_info": {
   "codemirror_mode": {
    "name": "ipython",
    "version": 3
   },
   "file_extension": ".py",
   "mimetype": "text/x-python",
   "name": "python",
   "nbconvert_exporter": "python",
   "pygments_lexer": "ipython3",
   "version": "3.9.0"
  }
 },
 "nbformat": 4,
 "nbformat_minor": 4
}
