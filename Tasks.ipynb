{
 "cells": [
  {
   "cell_type": "markdown",
   "metadata": {},
   "source": [
    "# Tasks"
   ]
  },
  {
   "cell_type": "markdown",
   "metadata": {},
   "source": [
    "Specific computational tasks I want to learn how to do in python"
   ]
  },
  {
   "cell_type": "markdown",
   "metadata": {},
   "source": [
    "## Read/print/save a string"
   ]
  },
  {
   "cell_type": "markdown",
   "metadata": {},
   "source": [
    "on Feb 12th, 2012, Donald Rumsfeld responded to a question fielded at a Department of Defense briefing by saying: "
   ]
  },
  {
   "cell_type": "code",
   "execution_count": 1,
   "metadata": {
    "scrolled": true
   },
   "outputs": [],
   "source": [
    "dod = \"Reports that say that something hasn't happened are always interesting to me, because as we know, there are known knowns; there are things we know we know. We also know there are known unknowns; that is to say we know there are some things we do not know. But there are also unknown unknowns—the ones we don't know we don't know. And if one looks throughout the history of our country and other free countries, it is the latter category that tends to be the difficult ones.\"\n",
    "print(dod)"
   ]
  },
  {
   "cell_type": "code",
   "execution_count": 2,
   "metadata": {},
   "outputs": [],
   "source": [
    "f = open(r'rumsfeld_quote.txt','w')\n",
    "f.write(dod)\n",
    "f.close()"
   ]
  },
  {
   "cell_type": "markdown",
   "metadata": {},
   "source": [
    "## Split a string into multiple strings with a maximum character limit"
   ]
  },
  {
   "cell_type": "markdown",
   "metadata": {},
   "source": [
    "[tutorial](https://stackoverflow.com/questions/18854620/whats-the-best-way-to-split-a-string-into-fixed-length-chunks-and-work-with-the/18854817)"
   ]
  },
  {
   "cell_type": "markdown",
   "metadata": {},
   "source": [
    "A function to break apart a long string. Pass the original string and desired character length."
   ]
  },
  {
   "cell_type": "code",
   "execution_count": 3,
   "metadata": {},
   "outputs": [],
   "source": [
    "def stringslice(string, length):\n",
    "    return (string[0+i:length+i] for i in range(0, len(string), length))"
   ]
  },
  {
   "cell_type": "code",
   "execution_count": 1,
   "metadata": {},
   "outputs": [
    {
     "ename": "NameError",
     "evalue": "name 'stringslice' is not defined",
     "output_type": "error",
     "traceback": [
      "\u001b[1;31m---------------------------------------------------------------------------\u001b[0m",
      "\u001b[1;31mNameError\u001b[0m                                 Traceback (most recent call last)",
      "\u001b[1;32m<ipython-input-1-8510e084ad61>\u001b[0m in \u001b[0;36m<module>\u001b[1;34m\u001b[0m\n\u001b[1;32m----> 1\u001b[1;33m \u001b[0mdrumsfeld\u001b[0m \u001b[1;33m=\u001b[0m \u001b[0mstringslice\u001b[0m\u001b[1;33m(\u001b[0m\u001b[0mdod\u001b[0m\u001b[1;33m,\u001b[0m \u001b[1;36m50\u001b[0m\u001b[1;33m)\u001b[0m\u001b[1;33m\u001b[0m\u001b[1;33m\u001b[0m\u001b[0m\n\u001b[0m\u001b[0;32m      2\u001b[0m \u001b[1;31m# tweets are max 280 characters\u001b[0m\u001b[1;33m\u001b[0m\u001b[1;33m\u001b[0m\u001b[1;33m\u001b[0m\u001b[0m\n",
      "\u001b[1;31mNameError\u001b[0m: name 'stringslice' is not defined"
     ]
    }
   ],
   "source": [
    "drumsfeld = stringslice(dod, 50)\n",
    "# tweets are max 280 characters"
   ]
  },
  {
   "cell_type": "markdown",
   "metadata": {},
   "source": [
    "`drumsefeld` is a [generator object](https://realpython.com/introduction-to-python-generators/). "
   ]
  },
  {
   "cell_type": "code",
   "execution_count": 5,
   "metadata": {
    "scrolled": false
   },
   "outputs": [],
   "source": [
    "dr = list(drumsfeld)"
   ]
  },
  {
   "cell_type": "code",
   "execution_count": 6,
   "metadata": {
    "scrolled": true
   },
   "outputs": [
    {
     "data": {
      "text/plain": [
       "[\"Reports that say that something hasn't happened ar\",\n",
       " 'e always interesting to me, because as we know, th',\n",
       " 'ere are known knowns; there are things we know we ',\n",
       " 'know. We also know there are known unknowns; that ',\n",
       " 'is to say we know there are some things we do not ',\n",
       " 'know. But there are also unknown unknowns—the ones',\n",
       " \" we don't know we don't know. And if one looks thr\",\n",
       " 'oughout the history of our country and other free ',\n",
       " 'countries, it is the latter category that tends to',\n",
       " ' be the difficult ones.']"
      ]
     },
     "execution_count": 6,
     "metadata": {},
     "output_type": "execute_result"
    }
   ],
   "source": [
    "dr"
   ]
  },
  {
   "cell_type": "code",
   "execution_count": 7,
   "metadata": {},
   "outputs": [
    {
     "data": {
      "text/plain": [
       "10"
      ]
     },
     "execution_count": 7,
     "metadata": {},
     "output_type": "execute_result"
    }
   ],
   "source": [
    "len(dr)"
   ]
  },
  {
   "cell_type": "markdown",
   "metadata": {},
   "source": [
    "### Let's also reformat Donald's response so that the strings remain less than 50 characters long, but don't cut words off. \n",
    "\n",
    "**find a way to always line break on a whitespace**"
   ]
  },
  {
   "cell_type": "code",
   "execution_count": 26,
   "metadata": {
    "scrolled": true
   },
   "outputs": [
    {
     "data": {
      "text/plain": [
       "[\"Reports that say that something hasn't happened ar\",\n",
       " 'e always interesting to me, because as we know, th',\n",
       " 'ere are known knowns; there are things we know we ',\n",
       " 'know. We also know there are known unknowns; that ',\n",
       " 'is to say we know there are some things we do not ',\n",
       " 'know. But there are also unknown unknowns—the ones',\n",
       " \" we don't know we don't know. And if one looks thr\",\n",
       " 'oughout the history of our country and other free ',\n",
       " 'countries, it is the latter category that tends to',\n",
       " ' be the difficult ones.']"
      ]
     },
     "execution_count": 26,
     "metadata": {},
     "output_type": "execute_result"
    }
   ],
   "source": [
    "dr"
   ]
  },
  {
   "cell_type": "markdown",
   "metadata": {},
   "source": [
    "**here are some ways to slice this list:**"
   ]
  },
  {
   "cell_type": "code",
   "execution_count": 27,
   "metadata": {},
   "outputs": [
    {
     "data": {
      "text/plain": [
       "\"Reports that say that something hasn't happened ar\""
      ]
     },
     "execution_count": 27,
     "metadata": {},
     "output_type": "execute_result"
    }
   ],
   "source": [
    "dr[0]"
   ]
  },
  {
   "cell_type": "code",
   "execution_count": 29,
   "metadata": {},
   "outputs": [
    {
     "data": {
      "text/plain": [
       "['e always interesting to me, because as we know, th',\n",
       " 'ere are known knowns; there are things we know we ',\n",
       " 'know. We also know there are known unknowns; that ',\n",
       " 'is to say we know there are some things we do not ',\n",
       " 'know. But there are also unknown unknowns—the ones',\n",
       " \" we don't know we don't know. And if one looks thr\",\n",
       " 'oughout the history of our country and other free ',\n",
       " 'countries, it is the latter category that tends to']"
      ]
     },
     "execution_count": 29,
     "metadata": {},
     "output_type": "execute_result"
    }
   ],
   "source": [
    "dr[1:9]"
   ]
  },
  {
   "cell_type": "code",
   "execution_count": 30,
   "metadata": {
    "scrolled": true
   },
   "outputs": [
    {
     "data": {
      "text/plain": [
       "' be the difficult ones.'"
      ]
     },
     "execution_count": 30,
     "metadata": {},
     "output_type": "execute_result"
    }
   ],
   "source": [
    "dr[-1]"
   ]
  },
  {
   "cell_type": "markdown",
   "metadata": {},
   "source": [
    "slice characters in elements in the list"
   ]
  },
  {
   "cell_type": "code",
   "execution_count": 34,
   "metadata": {},
   "outputs": [
    {
     "name": "stdout",
     "output_type": "stream",
     "text": [
      " we don't know we don't know. And if one looks thr\n"
     ]
    }
   ],
   "source": [
    "x = dr[-4]\n",
    "print(x)"
   ]
  },
  {
   "cell_type": "code",
   "execution_count": 35,
   "metadata": {},
   "outputs": [
    {
     "data": {
      "text/plain": [
       "'h'"
      ]
     },
     "execution_count": 35,
     "metadata": {},
     "output_type": "execute_result"
    }
   ],
   "source": [
    "x[-2]"
   ]
  },
  {
   "cell_type": "code",
   "execution_count": 37,
   "metadata": {},
   "outputs": [
    {
     "data": {
      "text/plain": [
       "'h'"
      ]
     },
     "execution_count": 37,
     "metadata": {},
     "output_type": "execute_result"
    }
   ],
   "source": [
    "(dr[-4])[-2]\n",
    "# more concise"
   ]
  },
  {
   "cell_type": "markdown",
   "metadata": {},
   "source": [
    "**Next step is to make it so that our original function does not break words up.** \n",
    "\n",
    "To that end, incorporate the following logic:\n",
    "\n",
    "For element (string) in list:<br>\n",
    "Start at end of element <br>\n",
    "if character is not whitespace, check the previous character<br>\n",
    "If character is whitespace, make a new line<br>"
   ]
  },
  {
   "cell_type": "markdown",
   "metadata": {},
   "source": [
    "## Detect/return specific word or phrase in a string"
   ]
  },
  {
   "cell_type": "markdown",
   "metadata": {},
   "source": [
    "How many times does Rumsfeld say 'unknown?' How many times does he say 'known?'\n",
    "\n",
    "*documentation for [re](https://docs.python.org/3/library/re.html)*"
   ]
  },
  {
   "cell_type": "code",
   "execution_count": 8,
   "metadata": {},
   "outputs": [],
   "source": [
    "import re"
   ]
  },
  {
   "cell_type": "code",
   "execution_count": 9,
   "metadata": {},
   "outputs": [],
   "source": [
    "word1 = 'known'\n",
    "word2 = 'unknown'"
   ]
  },
  {
   "cell_type": "markdown",
   "metadata": {},
   "source": [
    "[tutorial](https://stackoverflow.com/questions/17268958/finding-occurrences-of-a-word-in-a-string-in-python-3)"
   ]
  },
  {
   "cell_type": "code",
   "execution_count": 10,
   "metadata": {},
   "outputs": [
    {
     "name": "stdout",
     "output_type": "stream",
     "text": [
      "2\n"
     ]
    }
   ],
   "source": [
    "count = sum(1 for x in re.finditer(r'\\b%s\\b' % re.escape(word1), dod))\n",
    "print(count)"
   ]
  },
  {
   "cell_type": "code",
   "execution_count": 11,
   "metadata": {},
   "outputs": [
    {
     "name": "stdout",
     "output_type": "stream",
     "text": [
      "1\n"
     ]
    }
   ],
   "source": [
    "count = sum(1 for x in re.finditer(r'\\b%s\\b' % re.escape(word2), dod))\n",
    "print(count)"
   ]
  },
  {
   "cell_type": "markdown",
   "metadata": {},
   "source": [
    "### This wont work with lists. Can we write a function that takes a list and returns the item in the list that contains the word?\n",
    "\n",
    "Result should be the element in the list that contains the word (bold added for emphasis) \n",
    "\n",
    "> 'ere are **known** knowns; there are things we know we '<br>\n",
    "> 'know. We also know there are **known** unknowns; that '"
   ]
  },
  {
   "cell_type": "code",
   "execution_count": null,
   "metadata": {},
   "outputs": [],
   "source": []
  },
  {
   "cell_type": "markdown",
   "metadata": {},
   "source": [
    "### We have a way to match with one word, how do we match on more than one?"
   ]
  },
  {
   "cell_type": "code",
   "execution_count": 12,
   "metadata": {},
   "outputs": [],
   "source": [
    "words1 = ['know', 'known', 'knowns']\n",
    "words2 = ['unknown', 'unknowns']"
   ]
  },
  {
   "cell_type": "code",
   "execution_count": null,
   "metadata": {},
   "outputs": [],
   "source": []
  },
  {
   "cell_type": "markdown",
   "metadata": {},
   "source": [
    "## Detect/return specific word or phrase across multiple strings"
   ]
  },
  {
   "cell_type": "code",
   "execution_count": 38,
   "metadata": {
    "scrolled": true
   },
   "outputs": [
    {
     "data": {
      "text/plain": [
       "[\"Reports that say that something hasn't happened ar\",\n",
       " 'e always interesting to me, because as we know, th',\n",
       " 'ere are known knowns; there are things we know we ',\n",
       " 'know. We also know there are known unknowns; that ',\n",
       " 'is to say we know there are some things we do not ',\n",
       " 'know. But there are also unknown unknowns—the ones',\n",
       " \" we don't know we don't know. And if one looks thr\",\n",
       " 'oughout the history of our country and other free ',\n",
       " 'countries, it is the latter category that tends to',\n",
       " ' be the difficult ones.']"
      ]
     },
     "execution_count": 38,
     "metadata": {},
     "output_type": "execute_result"
    }
   ],
   "source": [
    "dr"
   ]
  },
  {
   "cell_type": "code",
   "execution_count": null,
   "metadata": {},
   "outputs": [],
   "source": []
  },
  {
   "cell_type": "markdown",
   "metadata": {},
   "source": [
    "## Write multiple strings to individual markdown files"
   ]
  },
  {
   "cell_type": "markdown",
   "metadata": {},
   "source": [
    "We want this part to be able to create file names in a sequential order. "
   ]
  },
  {
   "cell_type": "code",
   "execution_count": null,
   "metadata": {},
   "outputs": [],
   "source": []
  },
  {
   "cell_type": "markdown",
   "metadata": {},
   "source": [
    "## Detect/return specific word or phrase across files in a directory"
   ]
  },
  {
   "cell_type": "code",
   "execution_count": null,
   "metadata": {},
   "outputs": [],
   "source": []
  },
  {
   "cell_type": "markdown",
   "metadata": {},
   "source": [
    "## Perform the above tasks outside of jupyter notebook (in a script or something)"
   ]
  },
  {
   "cell_type": "code",
   "execution_count": null,
   "metadata": {},
   "outputs": [],
   "source": []
  }
 ],
 "metadata": {
  "kernelspec": {
   "display_name": "Python 3",
   "language": "python",
   "name": "python3"
  },
  "language_info": {
   "codemirror_mode": {
    "name": "ipython",
    "version": 3
   },
   "file_extension": ".py",
   "mimetype": "text/x-python",
   "name": "python",
   "nbconvert_exporter": "python",
   "pygments_lexer": "ipython3",
   "version": "3.9.0"
  }
 },
 "nbformat": 4,
 "nbformat_minor": 4
}
