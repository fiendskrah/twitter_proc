{
 "cells": [
  {
   "cell_type": "code",
   "execution_count": 3,
   "metadata": {},
   "outputs": [],
   "source": [
    "f = open('abstract.txt', 'r')\n",
    "abstract = f.read()"
   ]
  },
  {
   "cell_type": "code",
   "execution_count": 7,
   "metadata": {},
   "outputs": [
    {
     "name": "stdout",
     "output_type": "stream",
     "text": [
      "Abstract\n",
      "Choropleth mapping is an essential visualization technique for exploratory spatial data analysis. Visualizing multiple choropleth maps is a technique that spatial analysts use to reveal spatiotemporal patterns of one variable or to compare the geographical distributions of multiple variables. Critical features for effective exploration of multiple choropleth maps are (1) automated computation of the same class intervals for shading different choropleth maps, (2) dynamic visualization of local variation in a variable, and (3) linking for synchronous exploration of multiple choropleth maps. Since the 1990s, these features have been developed and are now included in many commercial geographic information system (GIS) software packages. However, many choropleth mapping tools include only one or two of the three features described above. On the other hand, freely available mapping tools that support side-by-side multiple choropleth map visualizations are usually desktop software only. As a result, most existing tools supporting multiple choropleth-map visualizations cannot be easily integrated with Web-based and open-source data visualization libraries, which have become mainstream in visual analytics and geovisualization. To fill this gap, we introduce an open-source Web-based choropleth mapping tool called the Adaptive Choropleth Mapper (ACM), which combines the three critical features for flexible choropleth mapping.\n"
     ]
    }
   ],
   "source": [
    "print(abstract)"
   ]
  },
  {
   "cell_type": "code",
   "execution_count": null,
   "metadata": {},
   "outputs": [],
   "source": []
  }
 ],
 "metadata": {
  "kernelspec": {
   "display_name": "Python 3",
   "language": "python",
   "name": "python3"
  },
  "language_info": {
   "codemirror_mode": {
    "name": "ipython",
    "version": 3
   },
   "file_extension": ".py",
   "mimetype": "text/x-python",
   "name": "python",
   "nbconvert_exporter": "python",
   "pygments_lexer": "ipython3",
   "version": "3.7.3"
  }
 },
 "nbformat": 4,
 "nbformat_minor": 4
}
